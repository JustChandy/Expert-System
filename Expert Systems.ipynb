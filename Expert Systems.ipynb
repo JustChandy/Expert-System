{
 "cells": [
  {
   "cell_type": "code",
   "execution_count": 4,
   "metadata": {
    "scrolled": true
   },
   "outputs": [
    {
     "name": "stdout",
     "output_type": "stream",
     "text": [
      "Requirement already satisfied: experta in c:\\users\\sande\\anaconda3\\lib\\site-packages (1.9.4)\n",
      "Requirement already satisfied: frozendict==1.2 in c:\\users\\sande\\anaconda3\\lib\\site-packages (from experta) (1.2)\n",
      "Requirement already satisfied: schema==0.6.7 in c:\\users\\sande\\anaconda3\\lib\\site-packages (from experta) (0.6.7)\n",
      "Note: you may need to restart the kernel to use updated packages.\n"
     ]
    }
   ],
   "source": [
    "pip install experta\n"
   ]
  },
  {
   "cell_type": "code",
   "execution_count": 2,
   "metadata": {},
   "outputs": [],
   "source": [
    "from random import choice\n",
    "from experta import *"
   ]
  },
  {
   "cell_type": "markdown",
   "metadata": {},
   "source": [
    "<h1><center>Assignment 1 </center></h1>"
   ]
  },
  {
   "cell_type": "markdown",
   "metadata": {},
   "source": [
    "<u><b>Part 1</b></u></n><br/>\n",
    "Implement an ES that tells whether an animal is a bird, mammal, or unknown. It should require two percepts/declarations: cover and wings. The former can take one of two values,\"fur\" or \"feathers\", and the latter True or False. Given the declarations cover = \"feathers\" and wings = True, it should print \"bird\". Similarly, given cover = \"fur\" and\n",
    "wings = True, it should print \"mammal\", since a bat has wing and is a mammal. For cover = \"feathers\" and wings = False it should print \"unknown\" (since I don’t know of any wingless bird)."
   ]
  },
  {
   "cell_type": "code",
   "execution_count": 3,
   "metadata": {},
   "outputs": [],
   "source": [
    "class cover(Fact):\n",
    "    \"\"\"Info about the animal's cover\"\"\"\n",
    "    pass"
   ]
  },
  {
   "cell_type": "code",
   "execution_count": 4,
   "metadata": {},
   "outputs": [],
   "source": [
    "class wings(Fact):\n",
    "    \"\"\"Info about whether the animal has wings or not\"\"\"\n",
    "    pass"
   ]
  },
  {
   "cell_type": "code",
   "execution_count": 5,
   "metadata": {},
   "outputs": [],
   "source": [
    "class AnimalIdentifier1(KnowledgeEngine):\n",
    "    @Rule(cover(feature='fur') , AS.w << wings(value= L(True) | L(False)))\n",
    "    def mammal(self, w):\n",
    "        print(\"The animal is a mammal\")\n",
    "        \n",
    "    @Rule(cover(feature='feather') , wings(value=True))\n",
    "    def bird(self):\n",
    "        print(\"The animal is a bird\")\n",
    "        \n",
    "    @Rule(cover(feature='feather') , wings(value=False))\n",
    "    def unknown(self):\n",
    "        print(\"The animal is unknown\")"
   ]
  },
  {
   "cell_type": "code",
   "execution_count": 16,
   "metadata": {},
   "outputs": [
    {
     "name": "stdout",
     "output_type": "stream",
     "text": [
      "The animal is a mammal\n"
     ]
    }
   ],
   "source": [
    "engine = AnimalIdentifier1()\n",
    "engine.reset()\n",
    "engine.declare(cover(feature=choice(['feather', 'fur'])), wings(value=choice([True, False])))\n",
    "engine.run()"
   ]
  },
  {
   "cell_type": "markdown",
   "metadata": {},
   "source": [
    "<u><b>Part 2</b></u><br/>\n",
    "Implement an AnimalIdentifier. Given some suitable number of declarations, this ES should be able to classify an animal into the following categories: \"protozoa\" (a single cell animal), \"invertebrate\", \"fish\", \"bird\", \"mammal\" or \"unknown\".\n"
   ]
  },
  {
   "cell_type": "code",
   "execution_count": 17,
   "metadata": {},
   "outputs": [],
   "source": [
    "class cell(Fact):\n",
    "    \"\"\"Info about the number of cells\"\"\"\n",
    "    pass"
   ]
  },
  {
   "cell_type": "code",
   "execution_count": 18,
   "metadata": {},
   "outputs": [],
   "source": [
    "class backbone(Fact):\n",
    "    \"\"\"Info about whether the animal has backbone\"\"\"\n",
    "    pass"
   ]
  },
  {
   "cell_type": "code",
   "execution_count": 19,
   "metadata": {},
   "outputs": [],
   "source": [
    "class gills(Fact):\n",
    "    \"\"\"Info on whether the animal breathe underwater\"\"\"\n",
    "    pass"
   ]
  },
  {
   "cell_type": "markdown",
   "metadata": {},
   "source": [
    "This ES classifies animals based on defining features while ignorning the rest. For instance if value initiated for the cell object is 'single' the animal is classified as a 'protozoa' regardless of the values of other features."
   ]
  },
  {
   "cell_type": "code",
   "execution_count": 108,
   "metadata": {},
   "outputs": [],
   "source": [
    "class AnimalIdentifier2(KnowledgeEngine):\n",
    "    @Rule(cell(value = 'single'))\n",
    "    def protozoa(self):\n",
    "        print(\"The animal is a protozoa\")\n",
    "        \n",
    "    @Rule(cell(value = 'multi'), backbone(value= False))\n",
    "    def invertebrate(self):\n",
    "        print(\"The animal is an invertebrate\")\n",
    "        \n",
    "    @Rule(cell(value = 'multi'), backbone(value= True), gills(value = True))\n",
    "    def fish(self):\n",
    "        print(\"The animal is an fish\")\n",
    "        \n",
    "    @Rule(cell(value = 'multi'), backbone(value= True), gills(value = False), \\\n",
    "          AND(wings(value = True),cover(value='feather')))\n",
    "    def bird(self):\n",
    "          print(\"The animal is a bird\")\n",
    "          \n",
    "    @Rule(cell(value = 'multi'), backbone(value= True), gills(value = False), \\\n",
    "          OR(wings(value = True),wings(value=False)),cover(value='fur'))\n",
    "    def mammal(self):\n",
    "          print(\"The animal is a mammal\")    \n",
    "   \n",
    "    @Rule(cell(value = 'multi'), backbone(value=True) , gills(value=False), \\\n",
    "          wings(value=False), cover(value='feather'))\n",
    "    def unknown(self):\n",
    "        print(\"The animal is unknown\")\n",
    "          \n",
    "                    "
   ]
  },
  {
   "cell_type": "code",
   "execution_count": 209,
   "metadata": {},
   "outputs": [
    {
     "name": "stdout",
     "output_type": "stream",
     "text": [
      "The animal is an invertebrate\n"
     ]
    }
   ],
   "source": [
    "engine = AnimalIdentifier2()\n",
    "engine.reset()\n",
    "cell_type = choice(['single', 'multi'])\n",
    "backbone_found = choice([True, False])\n",
    "gills_found = choice([True, False])\n",
    "wings_found = choice([True, False])\n",
    "cover_type = choice(['feather', 'fur'])\n",
    "engine.declare(cell(value=cell_type), backbone(value=backbone_found), gills(value=gills_found),\n",
    "              wings(value=wings_found), cover(value=cover_type))\n",
    "engine.run()"
   ]
  },
  {
   "cell_type": "markdown",
   "metadata": {},
   "source": [
    "<u><b>Part 3</b></u><br/>\n",
    "Implement an ES that can answer questions about a topic of your own interest. Include an explanation and description of its intended behavior as a comment."
   ]
  },
  {
   "cell_type": "markdown",
   "metadata": {},
   "source": [
    "The ES in this case classifies a car into fuel run, hybrid or electric based on two percepts: 'fengine'( stands for fuel enigine) and 'emotor'(or electric motor). Both percepts can have two values : True or False. Using different combinations of the values we can assign a car to one of the categories."
   ]
  },
  {
   "cell_type": "code",
   "execution_count": 119,
   "metadata": {},
   "outputs": [],
   "source": [
    "class fengine(Fact):\n",
    "    \"\"\"Info about whether the car has a fuel engine\"\"\"\n",
    "    pass"
   ]
  },
  {
   "cell_type": "code",
   "execution_count": 120,
   "metadata": {},
   "outputs": [],
   "source": [
    "class emotor(Fact):\n",
    "    \"\"\"Info about whether the car has an electric motor\"\"\"\n",
    "    pass"
   ]
  },
  {
   "cell_type": "code",
   "execution_count": 134,
   "metadata": {},
   "outputs": [],
   "source": [
    "class CarTypeIdentifier(KnowledgeEngine):\n",
    "    @Rule(fengine(value=True), emotor(value=False))\n",
    "    def fuel_car(self):\n",
    "        print(\"The car runs on fuel\")\n",
    "        \n",
    "    @Rule(fengine(value=True), emotor(value=True))\n",
    "    def hybrid_car(self):\n",
    "        print(\"The car is a hybrid\")\n",
    "        \n",
    "    @Rule(fengine(value=False), emotor(value=True))\n",
    "    def electric_car(self):\n",
    "        print(\"The car is electric\")\n",
    "        \n",
    "    @Rule(fengine(value=False), emotor(value=False))\n",
    "    def Unknown(self):\n",
    "        print(\"The car type is unknown\")\n",
    "        "
   ]
  },
  {
   "cell_type": "code",
   "execution_count": 173,
   "metadata": {},
   "outputs": [
    {
     "name": "stdout",
     "output_type": "stream",
     "text": [
      "The car runs on fuel\n"
     ]
    }
   ],
   "source": [
    "engine = CarTypeIdentifier()\n",
    "engine.reset()\n",
    "engine.declare(fengine(value=choice([True,False])), emotor(value=choice([True,False])))\n",
    "engine.run()"
   ]
  },
  {
   "cell_type": "code",
   "execution_count": null,
   "metadata": {},
   "outputs": [],
   "source": []
  },
  {
   "cell_type": "code",
   "execution_count": null,
   "metadata": {},
   "outputs": [],
   "source": []
  },
  {
   "cell_type": "code",
   "execution_count": null,
   "metadata": {},
   "outputs": [],
   "source": []
  },
  {
   "cell_type": "code",
   "execution_count": null,
   "metadata": {},
   "outputs": [],
   "source": []
  },
  {
   "cell_type": "code",
   "execution_count": null,
   "metadata": {},
   "outputs": [],
   "source": []
  },
  {
   "cell_type": "code",
   "execution_count": null,
   "metadata": {},
   "outputs": [],
   "source": []
  },
  {
   "cell_type": "code",
   "execution_count": null,
   "metadata": {},
   "outputs": [],
   "source": []
  }
 ],
 "metadata": {
  "kernelspec": {
   "display_name": "Python 3",
   "language": "python",
   "name": "python3"
  },
  "language_info": {
   "codemirror_mode": {
    "name": "ipython",
    "version": 3
   },
   "file_extension": ".py",
   "mimetype": "text/x-python",
   "name": "python",
   "nbconvert_exporter": "python",
   "pygments_lexer": "ipython3",
   "version": "3.8.3"
  }
 },
 "nbformat": 4,
 "nbformat_minor": 4
}
